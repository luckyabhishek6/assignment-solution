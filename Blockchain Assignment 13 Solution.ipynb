{
 "cells": [
  {
   "cell_type": "markdown",
   "id": "78584d0a",
   "metadata": {},
   "source": [
    "### 1. Write a solidity program to Calculate the sum of all numbers from 1 to a given number using a for loop."
   ]
  },
  {
   "cell_type": "markdown",
   "id": "7ff644ab",
   "metadata": {},
   "source": [
    "    //SPDX-License-Identifier:MIT\n",
    "\n",
    "    pragma solidity 0.8.0;\n",
    "\n",
    "        \n",
    "    contract sum_numbers\n",
    "    {\n",
    "\n",
    "        int256 private mynum;\n",
    "\n",
    "        function add_numbers(int256 _num) public returns (int256)\n",
    "        {\n",
    "            mynum = 0;\n",
    "            for(int256 i=1;i<=_num;i++)\n",
    "            {\n",
    "                mynum += i;\n",
    "            }\n",
    "            return mynum;\n",
    "        } \n",
    "\n",
    "        function get_number() public view returns(int256)\n",
    "        {\n",
    "            return mynum;\n",
    "        }\n",
    "    }\n"
   ]
  },
  {
   "cell_type": "markdown",
   "id": "4a2118d7",
   "metadata": {},
   "source": [
    "### 2. Write a solidity program to find the factorial of a given number."
   ]
  },
  {
   "cell_type": "markdown",
   "id": "ca74fa1d",
   "metadata": {},
   "source": [
    "    //SPDX-License-Identifier:MIT\n",
    "\n",
    "    pragma solidity 0.8.0;\n",
    "    \n",
    "    contract factorial\n",
    "    {\n",
    "\n",
    "        int256 private myfact = 1;\n",
    "\n",
    "        function find_factorial(int256 _fact) public returns (int256)\n",
    "        {\n",
    "            if (_fact == 0)\n",
    "            {\n",
    "                return 1;\n",
    "            }\n",
    "            else \n",
    "            {\n",
    "                for (int256 i=1;i<=_fact;i++)\n",
    "                    {\n",
    "                        myfact = myfact *  i ;\n",
    "                    }\n",
    "            return myfact;\n",
    "            }\n",
    "            \n",
    "        }\n",
    "\n",
    "        function get_factorial() public view returns (int256)\n",
    "        {\n",
    "            return myfact;\n",
    "        }\n",
    "    }"
   ]
  },
  {
   "cell_type": "markdown",
   "id": "e946605d",
   "metadata": {},
   "source": [
    "### 3. Write a solidity program to return Fibonacci series up to 10 terms."
   ]
  },
  {
   "cell_type": "markdown",
   "id": "bf058162",
   "metadata": {},
   "source": [
    "    //SPDX-License-Identifier:MIT\n",
    "\n",
    "    pragma solidity 0.8.0; \n",
    "       \n",
    "    contract fib_series\n",
    "    \n",
    "    {\n",
    "        uint256 private a = 1;\n",
    "        uint256 private b = 1;\n",
    "        uint[] fibseries;\n",
    "        function fibnocci_nums() public returns(uint[] memory)\n",
    "        {\n",
    "            fibseries.push(0);\n",
    "            for (uint256 i = 1;i<10;i++)\n",
    "            {\n",
    "                fibseries.push(b);\n",
    "                a = i;\n",
    "                b = a + b;\n",
    "            }        \n",
    "            return fibseries;\n",
    "        }\n",
    "    }\n"
   ]
  },
  {
   "cell_type": "markdown",
   "id": "ab5e5c74",
   "metadata": {},
   "source": [
    "### 4. Write a program to return all the prime numbers within a given range from the user."
   ]
  },
  {
   "cell_type": "markdown",
   "id": "30d9ae6c",
   "metadata": {},
   "source": [
    "    //SPDX-License-Identifier:MIT\n",
    "\n",
    "    pragma solidity 0.8.0;  \n",
    "    \n",
    "    contract get_prime\n",
    "    {\n",
    "\n",
    "        uint[] list_prime;\n",
    "        bool private mybool ;\n",
    "        \n",
    "\n",
    "        function prime_num(uint256 _prime) public returns (uint[] memory)\n",
    "        {\n",
    "            if (_prime == 0 || _prime == 1)\n",
    "            {\n",
    "                list_prime.push(0);\n",
    "            }\n",
    "            else \n",
    "            {\n",
    "                for (uint256 i=2;i<=_prime;i++)\n",
    "                    {\n",
    "                        mybool = true;\n",
    "                        for (uint256 j =2;j<=i;j++)\n",
    "                        {\n",
    "                            if (i % j == 0)\n",
    "                                {\n",
    "                                    mybool = false;\n",
    "                                    break;\n",
    "                                }\n",
    "                            else\n",
    "                            {\n",
    "                                if (mybool == true)\n",
    "                                {\n",
    "                                    list_prime.push(i);\n",
    "                                    mybool = false;\n",
    "                                }\n",
    "                            }\n",
    "                        } \n",
    "                    }\n",
    "                    return list_prime;\n",
    "            }\n",
    "            \n",
    "        }\n",
    "    }"
   ]
  }
 ],
 "metadata": {
  "kernelspec": {
   "display_name": "Python 3",
   "language": "python",
   "name": "python3"
  },
  "language_info": {
   "codemirror_mode": {
    "name": "ipython",
    "version": 3
   },
   "file_extension": ".py",
   "mimetype": "text/x-python",
   "name": "python",
   "nbconvert_exporter": "python",
   "pygments_lexer": "ipython3",
   "version": "3.8.8"
  }
 },
 "nbformat": 4,
 "nbformat_minor": 5
}
